{
  "nbformat": 4,
  "nbformat_minor": 0,
  "metadata": {
    "colab": {
      "provenance": []
    },
    "kernelspec": {
      "name": "python3",
      "display_name": "Python 3"
    },
    "language_info": {
      "name": "python"
    }
  },
  "cells": [
    {
      "cell_type": "markdown",
      "source": [
        "# **IMPORTING THE NECESSARY MODULES**"
      ],
      "metadata": {
        "id": "9EgH_nqHcikM"
      }
    },
    {
      "cell_type": "code",
      "execution_count": 1,
      "metadata": {
        "id": "E48iPSDvNU5f"
      },
      "outputs": [],
      "source": [
        "import pandas as pd\n",
        "import numpy as np\n",
        "from scipy.stats import skew\n",
        "from scipy.stats import zscore\n",
        "import seaborn as sns\n",
        "import matplotlib.pyplot as plt"
      ]
    },
    {
      "cell_type": "markdown",
      "source": [
        "# **DETECTING SKEWNESS AND OUTLIERS IN A DATA SET**"
      ],
      "metadata": {
        "id": "MCPA4twHcn90"
      }
    },
    {
      "cell_type": "code",
      "source": [
        "data = pd.read_csv(\"copper_data.csv\")\n",
        "\n",
        "# Detect skewness in the data\n",
        "skewness = data.select_dtypes(include=np.number).apply(skew)\n",
        "skewness = skewness[abs(skewness) > 0.5]\n",
        "skewed_features = skewness.index\n",
        "\n",
        "# Visualize the distribution of skewed features\n",
        "skewed_features = skewness.index\n",
        "for feature in skewed_features:\n",
        "    sns.distplot(data[feature])\n",
        "    plt.title(f\"Distribution of {feature}\")\n",
        "    plt.show()\n",
        "\n",
        "# Apply log transformation to skewed features\n",
        "data[skewed_features] = np.log1p(data[skewed_features])\n",
        "\n",
        "# Detect and handle outliers using z-score\n",
        "z_scores = zscore(data.select_dtypes(include=np.number))\n",
        "outliers = np.abs(z_scores) > 3  # Consider z-scores above a certain threshold\n",
        "data_no_outliers = data[~outliers.any(axis=1)]\n",
        "\n",
        "# Visualize box plots to compare the distribution before and after handling outliers\n",
        "for feature in skewed_features:\n",
        "    fig, ax = plt.subplots(1, 2, figsize=(10, 5))\n",
        "    sns.boxplot(data=data, y=feature, ax=ax[0])\n",
        "    sns.boxplot(data=data_no_outliers, y=feature, ax=ax[1])\n",
        "    ax[0].set_title(f\"Box Plot of {feature} (with outliers)\")\n",
        "    ax[1].set_title(f\"Box Plot of {feature} (without outliers)\")\n",
        "    plt.show()"
      ],
      "metadata": {
        "id": "s1pdEHfdOLmb"
      },
      "execution_count": null,
      "outputs": []
    },
    {
      "cell_type": "markdown",
      "source": [
        "# **PREPROCESSING THE DATA SET**"
      ],
      "metadata": {
        "id": "IL7JAVGtcxlD"
      }
    },
    {
      "cell_type": "code",
      "source": [
        "from sklearn.model_selection import train_test_split\n",
        "from sklearn.preprocessing import StandardScaler, LabelEncoder\n",
        "from sklearn.preprocessing import OneHotEncoder"
      ],
      "metadata": {
        "id": "FxeXiIUsOnX5"
      },
      "execution_count": 3,
      "outputs": []
    },
    {
      "cell_type": "code",
      "source": [
        "# Separate the features (X) and target variable (y)\n",
        "X = data.drop('selling_price', axis=1)\n",
        "y = data['selling_price']\n",
        "\n",
        "# Handling missing values (if any)\n",
        "X = X.fillna(X.mean())\n",
        "y = y.fillna(y.mean())\n",
        "# Encode categorical variables\n",
        "categorical_cols = X.select_dtypes(include=['string']).columns\n",
        "encoder = OneHotEncoder(sparse=False, handle_unknown='ignore')\n",
        "X_encoded = pd.DataFrame(encoder.fit_transform(X[categorical_cols]))\n"
      ],
      "metadata": {
        "id": "OXZGrKh1TKDn"
      },
      "execution_count": null,
      "outputs": []
    },
    {
      "cell_type": "code",
      "source": [
        "# Splitting the data into training and testing sets\n",
        "\n",
        "X_data = pd.DataFrame(X[[\"width\",\"thickness\"]])\n",
        "\n",
        "X_train, X_test, y_train, y_test = train_test_split(X_data, y, test_size=0.2, random_state=42)"
      ],
      "metadata": {
        "id": "ENErHnNVUxOk"
      },
      "execution_count": 64,
      "outputs": []
    },
    {
      "cell_type": "markdown",
      "source": [
        "# **TRAINING THE MODEL**"
      ],
      "metadata": {
        "id": "UycP9reUc4Cm"
      }
    },
    {
      "cell_type": "code",
      "source": [
        "# Train a linear regression model\n",
        "\n",
        "from sklearn.linear_model import LinearRegression\n",
        "\n",
        "model = LinearRegression()\n",
        "model.fit(X_train, y_train)\n"
      ],
      "metadata": {
        "colab": {
          "base_uri": "https://localhost:8080/",
          "height": 74
        },
        "id": "AgfITYtFU5Ce",
        "outputId": "e9d31bc6-4007-451c-ff95-5931c5128751"
      },
      "execution_count": 65,
      "outputs": [
        {
          "output_type": "execute_result",
          "data": {
            "text/plain": [
              "LinearRegression()"
            ],
            "text/html": [
              "<style>#sk-container-id-1 {color: black;}#sk-container-id-1 pre{padding: 0;}#sk-container-id-1 div.sk-toggleable {background-color: white;}#sk-container-id-1 label.sk-toggleable__label {cursor: pointer;display: block;width: 100%;margin-bottom: 0;padding: 0.3em;box-sizing: border-box;text-align: center;}#sk-container-id-1 label.sk-toggleable__label-arrow:before {content: \"▸\";float: left;margin-right: 0.25em;color: #696969;}#sk-container-id-1 label.sk-toggleable__label-arrow:hover:before {color: black;}#sk-container-id-1 div.sk-estimator:hover label.sk-toggleable__label-arrow:before {color: black;}#sk-container-id-1 div.sk-toggleable__content {max-height: 0;max-width: 0;overflow: hidden;text-align: left;background-color: #f0f8ff;}#sk-container-id-1 div.sk-toggleable__content pre {margin: 0.2em;color: black;border-radius: 0.25em;background-color: #f0f8ff;}#sk-container-id-1 input.sk-toggleable__control:checked~div.sk-toggleable__content {max-height: 200px;max-width: 100%;overflow: auto;}#sk-container-id-1 input.sk-toggleable__control:checked~label.sk-toggleable__label-arrow:before {content: \"▾\";}#sk-container-id-1 div.sk-estimator input.sk-toggleable__control:checked~label.sk-toggleable__label {background-color: #d4ebff;}#sk-container-id-1 div.sk-label input.sk-toggleable__control:checked~label.sk-toggleable__label {background-color: #d4ebff;}#sk-container-id-1 input.sk-hidden--visually {border: 0;clip: rect(1px 1px 1px 1px);clip: rect(1px, 1px, 1px, 1px);height: 1px;margin: -1px;overflow: hidden;padding: 0;position: absolute;width: 1px;}#sk-container-id-1 div.sk-estimator {font-family: monospace;background-color: #f0f8ff;border: 1px dotted black;border-radius: 0.25em;box-sizing: border-box;margin-bottom: 0.5em;}#sk-container-id-1 div.sk-estimator:hover {background-color: #d4ebff;}#sk-container-id-1 div.sk-parallel-item::after {content: \"\";width: 100%;border-bottom: 1px solid gray;flex-grow: 1;}#sk-container-id-1 div.sk-label:hover label.sk-toggleable__label {background-color: #d4ebff;}#sk-container-id-1 div.sk-serial::before {content: \"\";position: absolute;border-left: 1px solid gray;box-sizing: border-box;top: 0;bottom: 0;left: 50%;z-index: 0;}#sk-container-id-1 div.sk-serial {display: flex;flex-direction: column;align-items: center;background-color: white;padding-right: 0.2em;padding-left: 0.2em;position: relative;}#sk-container-id-1 div.sk-item {position: relative;z-index: 1;}#sk-container-id-1 div.sk-parallel {display: flex;align-items: stretch;justify-content: center;background-color: white;position: relative;}#sk-container-id-1 div.sk-item::before, #sk-container-id-1 div.sk-parallel-item::before {content: \"\";position: absolute;border-left: 1px solid gray;box-sizing: border-box;top: 0;bottom: 0;left: 50%;z-index: -1;}#sk-container-id-1 div.sk-parallel-item {display: flex;flex-direction: column;z-index: 1;position: relative;background-color: white;}#sk-container-id-1 div.sk-parallel-item:first-child::after {align-self: flex-end;width: 50%;}#sk-container-id-1 div.sk-parallel-item:last-child::after {align-self: flex-start;width: 50%;}#sk-container-id-1 div.sk-parallel-item:only-child::after {width: 0;}#sk-container-id-1 div.sk-dashed-wrapped {border: 1px dashed gray;margin: 0 0.4em 0.5em 0.4em;box-sizing: border-box;padding-bottom: 0.4em;background-color: white;}#sk-container-id-1 div.sk-label label {font-family: monospace;font-weight: bold;display: inline-block;line-height: 1.2em;}#sk-container-id-1 div.sk-label-container {text-align: center;}#sk-container-id-1 div.sk-container {/* jupyter's `normalize.less` sets `[hidden] { display: none; }` but bootstrap.min.css set `[hidden] { display: none !important; }` so we also need the `!important` here to be able to override the default hidden behavior on the sphinx rendered scikit-learn.org. See: https://github.com/scikit-learn/scikit-learn/issues/21755 */display: inline-block !important;position: relative;}#sk-container-id-1 div.sk-text-repr-fallback {display: none;}</style><div id=\"sk-container-id-1\" class=\"sk-top-container\"><div class=\"sk-text-repr-fallback\"><pre>LinearRegression()</pre><b>In a Jupyter environment, please rerun this cell to show the HTML representation or trust the notebook. <br />On GitHub, the HTML representation is unable to render, please try loading this page with nbviewer.org.</b></div><div class=\"sk-container\" hidden><div class=\"sk-item\"><div class=\"sk-estimator sk-toggleable\"><input class=\"sk-toggleable__control sk-hidden--visually\" id=\"sk-estimator-id-1\" type=\"checkbox\" checked><label for=\"sk-estimator-id-1\" class=\"sk-toggleable__label sk-toggleable__label-arrow\">LinearRegression</label><div class=\"sk-toggleable__content\"><pre>LinearRegression()</pre></div></div></div></div></div>"
            ]
          },
          "metadata": {},
          "execution_count": 65
        }
      ]
    },
    {
      "cell_type": "code",
      "source": [
        "# Make predictions on the test set\n",
        "y_pred = model.predict(X_test)\n"
      ],
      "metadata": {
        "id": "myUcUFPDU_aH"
      },
      "execution_count": 82,
      "outputs": []
    },
    {
      "cell_type": "markdown",
      "source": [
        "# **EVALUATING THE MODEL**"
      ],
      "metadata": {
        "id": "4nIgMsW3c9c0"
      }
    },
    {
      "cell_type": "code",
      "source": [
        "from sklearn.metrics import mean_squared_error,r2_score\n",
        "mse = mean_squared_error(y_test, y_pred)\n",
        "rmse = np.sqrt(mse)\n",
        "r2 = r2_score(y_test, y_pred)\n",
        "\n",
        "print('Root Mean Squared Error:', rmse)\n",
        "print('R^2 Score:', r2)"
      ],
      "metadata": {
        "id": "IA3BZRRta-tD"
      },
      "execution_count": null,
      "outputs": []
    }
  ]
}